{
 "cells": [
  {
   "cell_type": "markdown",
   "metadata": {},
   "source": [
    "Números primos são números naturais maiores que 1 e não são produtos de dois outros números naturais positivos. Por exemplo, 5 é um número primo, pois não existe par de números entre 2 e 4 cuja multiplicação é igual a 5. Já 6 não é um número primo, pois existe um par entre 2 e 5 cujo resultado é igual a 6, o par é 2 e 3. Números primos são muito úteis em computação e despertam a curiosidade de matemáticos há séculos. Para essa oficina, você vai usar uma definição diferente, da apresentada acima, mas equivalente. Observe: um número X é primo se para todo número N entre 2 e X – 1, o resto da divisão entre X e N é diferente de 0. Seguindo essa lógica, desenvolva um notebook Jupyter com um programa Python que apresente textualmente todos os números primos entre 2 e 100 (incluindo o valor 100). Para tal, seu programa deve percorrer todos os números nesse intervalo e testar individualmente cada um, vendo se ele é primo ou não. Caso o número seja primo, você deve imprimir o valor em tela, caso não seja, deve simplesmente ignorá-lo."
   ]
  },
  {
   "cell_type": "code",
   "execution_count": 97,
   "metadata": {},
   "outputs": [
    {
     "name": "stdout",
     "output_type": "stream",
     "text": [
      "2 é primo\n",
      "3 é primo\n",
      "5 é primo\n",
      "7 é primo\n",
      "11 é primo\n",
      "13 é primo\n",
      "17 é primo\n",
      "19 é primo\n",
      "23 é primo\n",
      "29 é primo\n",
      "31 é primo\n",
      "37 é primo\n",
      "41 é primo\n",
      "43 é primo\n",
      "47 é primo\n",
      "53 é primo\n",
      "59 é primo\n",
      "61 é primo\n",
      "67 é primo\n",
      "71 é primo\n",
      "73 é primo\n",
      "79 é primo\n",
      "83 é primo\n",
      "89 é primo\n",
      "97 é primo\n"
     ]
    }
   ],
   "source": [
    "numero = 100\n",
    "for x in range(2, numero+1):\n",
    "    cont = 0\n",
    "    for y in range(2,x+1): \n",
    "        if x % y == 0:\n",
    "            cont = cont + 1\n",
    "    if cont <= 1 :\n",
    "        print(str(x) + \" é primo\")"
   ]
  }
 ],
 "metadata": {
  "kernelspec": {
   "display_name": "Python 3",
   "language": "python",
   "name": "python3"
  },
  "language_info": {
   "codemirror_mode": {
    "name": "ipython",
    "version": 3
   },
   "file_extension": ".py",
   "mimetype": "text/x-python",
   "name": "python",
   "nbconvert_exporter": "python",
   "pygments_lexer": "ipython3",
   "version": "3.8.5"
  }
 },
 "nbformat": 4,
 "nbformat_minor": 4
}
