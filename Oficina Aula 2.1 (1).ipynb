{
 "cells": [
  {
   "cell_type": "code",
   "execution_count": 86,
   "metadata": {},
   "outputs": [
    {
     "name": "stdout",
     "output_type": "stream",
     "text": [
      "Quantidade de arame usado no segmento x1 y1 até x2 y2 é igual a: 9.219544457292882\n",
      "Quantidade de arame usado no segmento x2 y2 até x3 y3 é igual a: 19.409276132818558\n",
      "Quantidade de arame usado no segmento x3 y3 até x4 y4 é igual a: 15.243359209832988\n",
      "Quantidade de arame usado no segmento x4 y4 até x5 y5 é igual a: 14.69965986001037\n",
      "Quantidade de arame usado no segmento x5 y5 até x6 y6 é igual a: 28.1788928100449\n",
      "Quantidade de arame usado no segmento x6 y6 até x7 y7 é igual a: 11.315917991926243\n",
      "Quantidade de arame usado no segmento x7 y7 até x8 y8 é igual a: 20.909567188251412\n",
      "Quantidade de arame usado no segmento x8 y8 até x1y1 é igual a: 20.879894635749483\n",
      "quantidade de estacas sem os extremos é:273\n",
      "O comprimento total de arame farpado utilizado é: 583.9420973753332\n",
      "A quantidade total de estacas de madeira utilizada é: 281\n"
     ]
    }
   ],
   "source": [
    "x = [42.7 ,38.9 ,56.3 ,70.7 ,74.5 ,47.9 ,36.8 ,56.8]\n",
    "y =[71.9, 80.3, 88.9 ,83.9, 69.7, 60.4, 62.6, 56.5]\n",
    "s = []\n",
    "quantidade_estacas =[]\n",
    "cont = 0\n",
    "cont1= 0\n",
    "for i in range(len(x)):\n",
    "    if((i+1) == len(x)):#quando chega ao ultimo elemento da lista ele compara com o primeiro elemento\n",
    "        aux = ((y[0]-y[i])**2 +(x[0]-x[i])**2)**0.5  \n",
    "        s.insert(i,aux)\n",
    "    else:\n",
    "        aux = ((y[i+1]-y[i])**2 +(x[i+1]-x[i])**2)**0.5    \n",
    "        s.insert(i,aux)      \n",
    "    aux1 = s[i]//2 #calculo de quantidade de estacas\n",
    "    quantidade_estacas.insert(i,aux1)#inserindo da lista de quantidade_escadas\n",
    "    for j in range(len(s)):\n",
    "        cont +=s[j]\n",
    "        \n",
    "    for k in range(len(quantidade_estacas)):\n",
    "        cont1+=quantidade_estacas[k]\n",
    "        \n",
    "    if((i+1) == len(x)):\n",
    "        print(\"Quantidade de arame usado no segmento x\"+ str((i+1)) + \" y\"+str((i+1))+ \" até x1y1 é igual a: \"+str(s[i]) )\n",
    "    else:\n",
    "        print(\"Quantidade de arame usado no segmento x\"+ str((i+1)) + \" y\"+str((i+1))+ \" até x\"+ str((i+2))+\" y\"+ str((i+2)) +\" é igual a: \"+str(s[i]) )\n",
    "\n",
    "print(\"quantidade de estacas sem os extremos é:\" +str(int(cont1)))\n",
    "print(\"O comprimento total de arame farpado utilizado é: \" +str(cont))\n",
    "print(\"A quantidade total de estacas de madeira utilizada é: \" +str(int(cont1+8)))\n",
    "\n",
    "    \n",
    "\n",
    "\n",
    "\n"
   ]
  },
  {
   "cell_type": "code",
   "execution_count": null,
   "metadata": {},
   "outputs": [],
   "source": []
  }
 ],
 "metadata": {
  "kernelspec": {
   "display_name": "Python 3",
   "language": "python",
   "name": "python3"
  },
  "language_info": {
   "codemirror_mode": {
    "name": "ipython",
    "version": 3
   },
   "file_extension": ".py",
   "mimetype": "text/x-python",
   "name": "python",
   "nbconvert_exporter": "python",
   "pygments_lexer": "ipython3",
   "version": "3.8.5"
  }
 },
 "nbformat": 4,
 "nbformat_minor": 4
}
