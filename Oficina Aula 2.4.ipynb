{
 "cells": [
  {
   "cell_type": "markdown",
   "metadata": {},
   "source": [
    "Durante a aula, foi apresentado a criação de dicionários em diferentes cenários. Então, chegou o momento de praticar, a partir do que você aprendeu, e utilizar dicionários, como estrutura básica, para resolver o seguinte problema: Imagine que você foi contratado para construir o sistema de gerenciamento de uma livraria e é o responsável por criar um módulo/célula, que fará a leitura dos dados de livros, que serão Título, gênero, subgênero, editora, número de cópias em loja e valor em reais. Além disso, você também é o responsável pelo módulo de apresentação dos livros disponíveis em loja, seguindo a seguinte organização: ao se apresentar todos os livros disponíveis, deve-se separá-los, primeiro, por gênero e, depois, por subgênero, seguindo a estrutura a seguir:\n",
    "\n",
    "--- Gênero A ---\n",
    "------ Subgênero A.1 ------\n",
    "Livro 01\n",
    "Livro 02\n",
    "------ Subgênero A.2 ------\n",
    "Livro 03\n",
    "--- Gênero B ---\n",
    "------ Subgênero B.1 ------\n",
    "Livro 04\n",
    "------ Subgênero B.2 ------\n",
    "Livro 05\n",
    "Livro 06\n",
    "\n",
    "\n",
    "Tanto gênero quanto subgênero devem seguir uma ordem alfabética de apresentação, em que, dentro de um subgênero, os livros devem ser listados pela quantidade disponível em loja. Vamos lá?"
   ]
  },
  {
   "cell_type": "code",
   "execution_count": 1,
   "metadata": {
    "scrolled": true
   },
   "outputs": [
    {
     "name": "stdout",
     "output_type": "stream",
     "text": [
      "---- gênero ação----------\n",
      "---- SubGênero ação-triller ------\n",
      "livro 02 :\n",
      "\t\ttitulo -> Livro interessante de triller e ação\n",
      "\t\teditora -> Saraiva\n",
      "\t\tnº de cópias -> 10\n",
      "\t\tvalor -> 10.99\n",
      "\t\tsubgenero -> ação-triller\n",
      "---- gênero negócios----------\n",
      "---- SubGênero gestão ------\n",
      "livro 01 :\n",
      "\t\ttitulo -> Mindset: A nova psicologia do sucesso\n",
      "\t\teditora -> Objetiva\n",
      "\t\tnº de cópias -> 10\n",
      "\t\tvalor -> 169.99\n",
      "\t\tsubgenero -> gestão\n",
      "---- SubGênero liderança ------\n",
      "livro 03 :\n",
      "\t\ttitulo -> Comece pelo porquê: Como grandes líderes inspiram pessoas e equipes a agir\n",
      "\t\teditora ->  Sextante\n",
      "\t\tnº de cópias -> 25\n",
      "\t\tvalor -> 29.89\n",
      "\t\tsubgenero -> liderança\n",
      "livro 04 :\n",
      "\t\ttitulo -> Comece pelo porquê: Como grandes líderes inspiram pessoas e equipes a agir\n",
      "\t\teditora ->  Sextante\n",
      "\t\tnº de cópias -> 25\n",
      "\t\tvalor -> 19.89\n",
      "\t\tsubgenero -> liderança\n"
     ]
    }
   ],
   "source": [
    "\n",
    "genero ={}\n",
    "\n",
    "genero['ação'] = {'subgenero':'ação-triller'}\n",
    "genero['negócios'] ={\n",
    "    'subgenero 01':'gestão',\n",
    "     'subgenero 02':'liderança'\n",
    "    }\n",
    "\n",
    "\n",
    "\n",
    "livros = {\n",
    "    \"livro 01\" : {\n",
    "    'titulo':'Mindset: A nova psicologia do sucesso'                                                                         \n",
    "                , 'editora':'Objetiva', 'nº de cópias': 10 , 'valor': 169.99,\n",
    "                'subgenero' :'gestão'\n",
    "    },\n",
    "     \"livro 02\" : {\n",
    "        'titulo':'Livro interessante de triller e ação'                                                                         \n",
    "                , 'editora':'Saraiva', 'nº de cópias': 10 , 'valor': 10.99,\n",
    "                'subgenero' :'ação-triller'\n",
    "    },\n",
    "     \"livro 03\" : {\n",
    "         'titulo':'Comece pelo porquê: Como grandes líderes inspiram pessoas e equipes a agir'\n",
    "                    , 'editora':' Sextante', 'nº de cópias': 25 , 'valor': 29.89,'subgenero' :'liderança'\n",
    "    },\n",
    "     \"livro 04\" : {\n",
    "         'titulo':'Comece pelo porquê: Como grandes líderes inspiram pessoas e equipes a agir'\n",
    "                    , 'editora':' Sextante', 'nº de cópias': 25 , 'valor': 19.89,'subgenero' :'liderança'\n",
    "    }\n",
    "\n",
    "}\n",
    "for genero_c , genero_v in sorted(genero.items()):  \n",
    "    print('---- gênero {}----------'.format(genero_c))\n",
    "    for sub_c,sub_v in sorted(genero_v.items()):\n",
    "        print('---- SubGênero {} ------'.format(sub_v))\n",
    "        for livros_c , livros_v in livros.items():\n",
    "              if sub_v in  livros_v.values():\n",
    "                print('{} :'.format(livros_c))\n",
    "                for chave,valor in livros_v.items():               \n",
    "                    print('\\t\\t{} -> {}'.format(chave,valor))\n",
    "\n",
    "\n",
    "\n"
   ]
  },
  {
   "cell_type": "code",
   "execution_count": null,
   "metadata": {},
   "outputs": [],
   "source": []
  }
 ],
 "metadata": {
  "kernelspec": {
   "display_name": "Python 3",
   "language": "python",
   "name": "python3"
  },
  "language_info": {
   "codemirror_mode": {
    "name": "ipython",
    "version": 3
   },
   "file_extension": ".py",
   "mimetype": "text/x-python",
   "name": "python",
   "nbconvert_exporter": "python",
   "pygments_lexer": "ipython3",
   "version": "3.8.5"
  }
 },
 "nbformat": 4,
 "nbformat_minor": 4
}
