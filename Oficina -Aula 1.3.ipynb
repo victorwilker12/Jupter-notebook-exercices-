{
 "cells": [
  {
   "cell_type": "markdown",
   "metadata": {},
   "source": [
    "Imagine que você começou a trabalhar numa empresa de desenvolvimento de software. Lá, você conseguiu um contrato para desenvolver o sistema de uma clínica veterinária e foi alocado para construir a parte do sistema que faz o cadastro do cliente e do animal dele. Então, seu chefe chegou na sua mesa e falou, “Eu preciso de um tipo de dados para armazenar informações sobre os clientes da clínica, estes dados são: o nome, a idade, o endereço e o telefone do cliente. Ah, também preciso de outro tipo em que possamos armazenar os dados dos pets, que são: o nome, o tipo (cão ou gato, por exemplo), a idade, o peso e a doença que ele tem no momento, ok? Faça isso e depois construa um programa que lê os dados de um cliente e de um pet, em sequência. Após fazer esta leitura, você deve apresentar os dados na tela, só para vermos se tudo foi armazenado corretamente. Então, posso contar com você?” A partir das orientações dadas pelo seu chefe, construa um notebook Jupyter que resolve os problemas apresentados por ele: a representação e o armazenamento dos dados do cliente, do pet, a entrada de dados a partir do teclado e a saída de dados textual em tela. Em seguida, exporte o arquivo do seu notebook e envie."
   ]
  },
  {
   "cell_type": "code",
   "execution_count": 25,
   "metadata": {},
   "outputs": [
    {
     "name": "stdout",
     "output_type": "stream",
     "text": [
      "------------------------------------------------------------------\n",
      "Digite o Nome do Cliente da ClínicaVictor Wilker\n",
      "Digite a idade do Cliente Victor Wilker12\n",
      "Digite o endereco do Cliente Victor Wilkerrua agr\n",
      "Digite o telefone do Cliente Victor Wilker9902433\n",
      "------------------------------------------------------------------\n",
      "------------------------------------------------------------------\n",
      "Digite o Nome do Pet do cliente Victor Wilkerbluk\n",
      "Digite o tipo do Pet bluk do cliente Victor Wilkerdog\n",
      "Digite a idade do Pet bluk do cliente Victor Wilker9\n",
      "Digite o peso do Pet bluk do cliente Victor Wilker60.3\n",
      "<class 'float'>\n",
      "Digite a doença atual do Pet bluk do cliente Victor Wilkerdjj\n",
      "------------------------------------------------------------------\n",
      "\n",
      "\n",
      "---------------------Dados de Cadastro --------------------\n",
      "Nome do Cliente: Victor Wilker\n",
      "Idade do Cliente: 12\n",
      "Idade do Cliente: rua agr\n",
      "Idade do Cliente: 9902433\n",
      "Nome do Pet do Cliente : bluk\n",
      "Tipo do Pet do Cliente : dog\n",
      "Idade do Pet do Cliente : 9\n",
      "Peso do Pet do Cliente : 60.3\n",
      "Doenca atual do Pet do Cliente : djj\n",
      "----------------------------------------------------------\n",
      "\n",
      "\n"
     ]
    }
   ],
   "source": [
    "class ClienteClinica:\n",
    "    nome = \"\"\n",
    "    idade = 0\n",
    "    endereco = \"\"\n",
    "    telefone = \"\"\n",
    "    \n",
    "        \n",
    "    \n",
    "class PetClinica(ClienteClinica):\n",
    "    nome = \"\"\n",
    "    tipo = \"\"\n",
    "    idade = 0\n",
    "    peso = 0.0\n",
    "    doenca = \"\"\n",
    "    \n",
    "\n",
    "CadastroCliente = ClienteClinica()\n",
    "CadastroPet = PetClinica()\n",
    "print(\"------------------------------------------------------------------\")\n",
    "CadastroCliente.nome = input(\"Digite o Nome do Cliente da Clínica\")\n",
    "CadastroCliente.idade = int(input(\"Digite a idade do Cliente \" + CadastroCliente.nome))\n",
    "\n",
    "\n",
    "CadastroCliente.endereco = input(\"Digite o endereco do Cliente \" + CadastroCliente.nome)\n",
    "CadastroCliente.telefone = input(\"Digite o telefone do Cliente \" + CadastroCliente.nome)\n",
    "print(\"------------------------------------------------------------------\")\n",
    "print(\"------------------------------------------------------------------\")\n",
    "CadastroPet.nome = input(\"Digite o Nome do Pet do cliente \" +  CadastroCliente.nome )\n",
    "CadastroPet.tipo = input(\"Digite o tipo do Pet \"+ CadastroPet.nome + \" do cliente \" +  CadastroCliente.nome )\n",
    "CadastroPet.idade = int(input(\"Digite a idade do Pet \"+ CadastroPet.nome + \" do cliente \" +  CadastroCliente.nome ))\n",
    "CadastroPet.peso = float(input(\"Digite o peso do Pet \"+ CadastroPet.nome + \" do cliente \" +  CadastroCliente.nome) )\n",
    "CadastroPet.doenca = input(\"Digite a doença atual do Pet \"+ CadastroPet.nome + \" do cliente \" +  CadastroCliente.nome )\n",
    "print(\"------------------------------------------------------------------\")\n",
    "print(\"\")\n",
    "print(\"\")\n",
    "print(\"---------------------Dados de Cadastro --------------------\")\n",
    "print (\"Nome do Cliente: \" + CadastroCliente.nome )\n",
    "print (\"Idade do Cliente: \" + str(CadastroCliente.idade) )\n",
    "print (\"Idade do Cliente: \" +CadastroCliente.endereco )\n",
    "print (\"Idade do Cliente: \" +CadastroCliente.telefone )\n",
    "print (\"Nome do Pet do Cliente : \" + CadastroPet.nome )\n",
    "print (\"Tipo do Pet do Cliente : \" + CadastroPet.tipo )\n",
    "print (\"Idade do Pet do Cliente : \" + str(CadastroPet.idade) )\n",
    "print (\"Peso do Pet do Cliente : \" + str(CadastroPet.peso) )\n",
    "print (\"Doenca atual do Pet do Cliente : \" + CadastroPet.doenca )\n",
    "print(\"----------------------------------------------------------\")\n",
    "print(\"\")\n",
    "print(\"\")"
   ]
  },
  {
   "cell_type": "code",
   "execution_count": null,
   "metadata": {},
   "outputs": [],
   "source": []
  }
 ],
 "metadata": {
  "kernelspec": {
   "display_name": "Python 3",
   "language": "python",
   "name": "python3"
  },
  "language_info": {
   "codemirror_mode": {
    "name": "ipython",
    "version": 3
   },
   "file_extension": ".py",
   "mimetype": "text/x-python",
   "name": "python",
   "nbconvert_exporter": "python",
   "pygments_lexer": "ipython3",
   "version": "3.8.5"
  }
 },
 "nbformat": 4,
 "nbformat_minor": 4
}
