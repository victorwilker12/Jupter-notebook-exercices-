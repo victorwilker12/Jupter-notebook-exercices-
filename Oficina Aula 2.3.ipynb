{
 "cells": [
  {
   "cell_type": "markdown",
   "metadata": {
    "slideshow": {
     "slide_type": "skip"
    }
   },
   "source": [
    "# Micro 09: Conjuntos e suas utilizações &ndash; oficina\n",
    "\n",
    "Ao planejar um casamento, um casal monta sua lista de presentes e faz uma pesquisa para encontrar algumas lojas de departamentos que trabalhem com este serviço. O casal encontra 4 lojas favoráveis, mas cada uma oferece apenas alguns dos presentes que gostariam de ganhar. Como não dá para colocar a lista em todas as lojas ao mesmo tempo, algumas perguntas podem ajudar a decidir o que fazer, como: \n",
    "\n",
    "1. Quais produtos são oferecidos em ao menos uma loja? \n",
    "1. Quais produtos são oferecidos em todas as lojas? \n",
    "1. Quais produtos não são encontrados em nenhuma loja? \n",
    "1. Quais produtos são exclusivos de cada loja? \n",
    "1. Se for possível escolher duas lojas pra cobrir um número maior de presentes, qual é o maior número de presentes que é possível cobrir dessa forma? \n",
    "\n",
    "Faça um programa que calcule e imprima as respostas para estas perguntas. As 3 primeiras perguntas podem ser respondidas imprimindo conjuntos ou listas com os produtos correspondentes. A quarta pergunta pode ser respondida imprimindo uma lista de 4 coleções de produtos, ou imprimindo uma coleção por linha. A quinta pergunta pode ser respondida apenas com o número de presentes da melhor combinação de lojas, não precisa dizer qual é a combinação. \n",
    "\n",
    "Abaixo, você encontra duas células: a primeira contém valores exemplo para a lista de presentes e para os catálogos das lojas; a segunta a saída esperada do programa, dadas estas definições. Escreva seu programa em uma célula intermediária."
   ]
  },
  {
   "cell_type": "code",
   "execution_count": 56,
   "metadata": {},
   "outputs": [
    {
     "name": "stdout",
     "output_type": "stream",
     "text": [
      "1. Produtos oferecidos em alguma loja: {'rádio', 'teclado', 'peneira', 'smartphone', 'vassoura', 'xbox', 'frigideira', 'webcam', 'tablet', 'panela', 'espátula', 'notebook', 'halter', 'cadeira', 'televisão', 'escumadeira', 'liquidificador', 'caneca', 'estante', 'cafeteira', 'playstation', 'funil', 'sofá', 'espanador'}\n",
      "2.Produtos em todas as lojas: {'escumadeira', 'playstation', 'frigideira', 'televisão'}\n",
      "3.Produtos não encontrados: {'faqueiro'}\n",
      "4.Produtos exclusivos: [{'liquidificador', 'cadeira', 'panela', 'notebook'}, {'webcam', 'peneira', 'tablet'}, set(), set()]\n",
      "5.Melhor dupla tem 22itens\n"
     ]
    }
   ],
   "source": [
    "presentes = {\n",
    "    'cadeira', 'cafeteira', 'caneca', 'escumadeira',\n",
    "    'espanador', 'espátula', 'estante', 'faqueiro',\n",
    "    'frigideira', 'funil', 'halter', 'liquidificador',\n",
    "    'notebook', 'panela', 'peneira', 'playstation',\n",
    "    'rádio', 'smartphone', 'sofá', 'tablet', 'teclado',\n",
    "    'televisão', 'vassoura', 'webcam', 'xbox',\n",
    "}\n",
    "\n",
    "loja1 = {\n",
    "    'cadeira', 'cafeteira', 'caneca', 'escumadeira', 'estante',\n",
    "    'frigideira', 'funil', 'liquidificador', 'notebook', 'panela',\n",
    "    'playstation', 'smartphone', 'teclado', 'televisão'}\n",
    "loja2 = {\n",
    "    'cafeteira', 'escumadeira', 'espanador', 'frigideira', 'funil',\n",
    "    'halter', 'peneira', 'playstation', 'sofá', 'tablet', 'televisão',\n",
    "    'vassoura', 'webcam', 'xbox'}\n",
    "loja3 = {\n",
    "    'caneca', 'escumadeira', 'espanador', 'espátula', 'estante',\n",
    "    'frigideira', 'halter', 'playstation', 'rádio', 'smartphone',\n",
    "    'sofá', 'teclado', 'televisão', 'vassoura', 'xbox'}\n",
    "loja4 = {\n",
    "    'caneca', 'escumadeira', 'espanador', 'espátula', 'estante',\n",
    "    'frigideira', 'halter', 'playstation', 'rádio', 'smartphone',\n",
    "    'sofá', 'teclado', 'televisão', 'vassoura', 'xbox'}\n",
    "\n",
    "aux.union(loja1).union(loja2).union(loja3).union(loja4)\n",
    "\n",
    "contem = presentes.intersection(aux)\n",
    "\n",
    "produtos_todas_lojas = presentes & loja1 & loja2 & loja3 & loja4\n",
    "\n",
    "nao_encontrados = presentes.difference(aux)\n",
    "\n",
    "exclusivos =[loja1.difference(loja2).difference(loja3).difference(loja4) ,loja2.difference(loja1).difference(loja3).difference(loja4),\n",
    "             loja3.difference(loja2).difference(loja1).difference(loja4) ,loja4.difference(loja2).difference(loja3).difference(loja1) \n",
    "            ]\n",
    "\n",
    "aux1=loja1 | loja2\n",
    "aux2=loja1 | loja3\n",
    "aux3=loja1 | loja4\n",
    "aux4=loja2 | loja3\n",
    "aux5=loja2 | loja4\n",
    "aux5=loja3 | loja4\n",
    "\n",
    "comparacao= [aux1,aux2,aux3,aux4,aux5,]\n",
    "verificar_maior_valor = []\n",
    "for y in range(len(comparacao)):\n",
    "    z = len(presentes.intersection(comparacao[y]))\n",
    "    verificar_maior_valor.insert(y,z) \n",
    "    \n",
    "\n",
    "        \n",
    "    \n",
    "\n",
    "print(\"1. Produtos oferecidos em alguma loja: \" + str(contem))\n",
    "print(\"2.Produtos em todas as lojas: \" + str(produtos_todas_lojas))\n",
    "print(\"3.Produtos não encontrados: \" + str(nao_encontrados))\n",
    "print(\"4.Produtos exclusivos: \" + str(exclusivos))\n",
    "print(\"5.Melhor dupla tem \" + str(max(verificar_maior_valor)) + \"itens\")\n",
    "\n"
   ]
  },
  {
   "cell_type": "raw",
   "metadata": {
    "slideshow": {
     "slide_type": "fragment"
    }
   },
   "source": [
    "1. Produtos oferecidos em alguma loja: {'teclado', 'rádio', 'xbox', 'espanador', 'playstation', 'peneira', 'tablet', 'cafeteira', 'caneca', 'estante', 'escumadeira', 'smartphone', 'vassoura', 'espátula', 'liquidificador', 'cadeira', 'webcam', 'notebook', 'sofá', 'panela', 'funil', 'televisão', 'frigideira', 'halter'}\n",
    "2. Produtos em todas as lojas: {'escumadeira', 'frigideira', 'playstation', 'televisão'}\n",
    "3. Produtos não encontrados: {'faqueiro'}\n",
    "4. Produtos exclusivos: [{'cadeira', 'liquidificador', 'notebook', 'panela'},\n",
    "                         {'peneira', 'tablet', 'webcam'},\n",
    "                         set(),\n",
    "                         set()]\n",
    "5. Melhore dupla tem 22 itens"
   ]
  },
  {
   "cell_type": "code",
   "execution_count": null,
   "metadata": {},
   "outputs": [],
   "source": []
  }
 ],
 "metadata": {
  "celltoolbar": "Slideshow",
  "kernelspec": {
   "display_name": "Python 3",
   "language": "python",
   "name": "python3"
  },
  "language_info": {
   "codemirror_mode": {
    "name": "ipython",
    "version": 3
   },
   "file_extension": ".py",
   "mimetype": "text/x-python",
   "name": "python",
   "nbconvert_exporter": "python",
   "pygments_lexer": "ipython3",
   "version": "3.8.5"
  },
  "toc": {
   "base_numbering": 1,
   "nav_menu": {},
   "number_sections": true,
   "sideBar": true,
   "skip_h1_title": true,
   "title_cell": "Índice",
   "title_sidebar": "Contents",
   "toc_cell": false,
   "toc_position": {
    "height": "calc(100% - 180px)",
    "left": "10px",
    "top": "150px",
    "width": "337px"
   },
   "toc_section_display": true,
   "toc_window_display": true
  }
 },
 "nbformat": 4,
 "nbformat_minor": 4
}
