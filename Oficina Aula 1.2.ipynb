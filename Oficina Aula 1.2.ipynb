{
 "cells": [
  {
   "cell_type": "code",
   "execution_count": null,
   "metadata": {},
   "outputs": [],
   "source": [
    "print('digite os números decimais com divisão de um ponto \"2.60\" ')\n",
    "nome_usuario = input('Digite seu Nome:')\n",
    "peso_usuario = input('Digite seu peso:')\n",
    "peso_usuario_float = float(peso_usuario)\n",
    "altura_usuario = input('Digite sua altura:')\n",
    "altura_usuario_float = float(altura_usuario)\n",
    "altura_ao_quadrado = altura_usuario_float * altura_usuario_float\n",
    "IMC = peso_usuario_float/altura_ao_quadrado\n",
    "IMC_str =str(IMC)\n",
    "print(\"O usuário \"+nome_usuario+\", tem peso: \"+peso_usuario + \", e altura : \"+ altura_usuario +\", e o seu IMC é: \" + IMC_str)"
   ]
  }
 ],
 "metadata": {
  "kernelspec": {
   "display_name": "Python 3",
   "language": "python",
   "name": "python3"
  },
  "language_info": {
   "codemirror_mode": {
    "name": "ipython",
    "version": 3
   },
   "file_extension": ".py",
   "mimetype": "text/x-python",
   "name": "python",
   "nbconvert_exporter": "python",
   "pygments_lexer": "ipython3",
   "version": "3.8.5"
  }
 },
 "nbformat": 4,
 "nbformat_minor": 4
}
